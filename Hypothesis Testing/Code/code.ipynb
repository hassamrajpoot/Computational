{
 "cells": [
  {
   "cell_type": "code",
   "execution_count": 1,
   "metadata": {},
   "outputs": [],
   "source": [
    "import pandas as pd\n",
    "import numpy as np\n",
    "import matplotlib.pyplot as plt\n",
    "from random import sample\n",
    "from scipy import stats\n",
    "from sklearn.linear_model import LinearRegression\n",
    "pd.options.mode.chained_assignment = None\n",
    "df = pd.read_csv('student-grades.csv')"
   ]
  },
  {
   "cell_type": "markdown",
   "metadata": {},
   "source": [
    "# Q#3"
   ]
  },
  {
   "cell_type": "markdown",
   "metadata": {},
   "source": [
    "`Null hypothesis : The performance of all students is similar , irrespective of the academic program `<br>\n",
    "`Other hypothesis : The performance of all students is not similar , either DipNet student performe better than      other academic programs students or otherwse!`"
   ]
  },
  {
   "cell_type": "code",
   "execution_count": 12,
   "metadata": {},
   "outputs": [],
   "source": [
    "df1 = df.loc[df['ACAD_PROG'] == 'DipNet']\n",
    "dipNet_data = df1[['Math.SemMark', 'Science.SemMark', 'Comms.SemMark', 'Tech.SemMark']]\n",
    "df2 = df.loc[df['ACAD_PROG'] != 'DipNet']\n",
    "NondipNet_data = df2[['Math.SemMark', 'Science.SemMark', 'Comms.SemMark', 'Tech.SemMark']]\n",
    "dipNet_data['avgmarks'] = dipNet_data.mean(axis=1)\n",
    "NondipNet_data['avgmarks'] = NondipNet_data.mean(axis=1)\n",
    "a = dipNet_data.avgmarks.to_list()\n",
    "b = sample(NondipNet_data.avgmarks.to_list(), 50)\n",
    "#stats.levene(a, b)  Test of significence of homogenity of variances\n",
    "#stats.shapiro(a)    Test of assumption of normality for dipnet data \n",
    "#stats.shapiro(b)    Test of assumption of normality for non dipnet data\n",
    "critical_t_val = stats.t.ppf(q=1-0.05, df=(len(a)+len(b))-2)\n",
    "stats.ttest_ind(a, b,equal_var=True, nan_policy='omit')\n",
    "dipNnet_avg_score = float(dipNet_data[['avgmarks']].mean(axis=0))\n",
    "NondipNet_avg_score = float(NondipNet_data[['avgmarks']].mean(axis=0))"
   ]
  },
  {
   "cell_type": "markdown",
   "metadata": {},
   "source": [
    "`Critical t value is : 1.6603, since the t test value is 3.37 , there is sufficent evidence to reject the null hypothesis`"
   ]
  },
  {
   "cell_type": "markdown",
   "metadata": {},
   "source": [
    "`Since DipNet students average score is 81.7 and other academic program students have average score of 76.7, DipNet students perform better than other academic program students!`"
   ]
  },
  {
   "cell_type": "markdown",
   "metadata": {},
   "source": [
    "# Q#4"
   ]
  },
  {
   "cell_type": "markdown",
   "metadata": {},
   "source": [
    "`Null hypothesis: Grades distribution is independent of academic program`<br>\n",
    "`Other hypothesis: Grade distribution is related to academic program`"
   ]
  },
  {
   "cell_type": "code",
   "execution_count": 13,
   "metadata": {},
   "outputs": [],
   "source": [
    "df1 = df.loc[df['ACAD_PROG'] == 'DipCloud']\n",
    "dipCloud_data = df1[['Math.SemMark', 'Science.SemMark', 'Comms.SemMark', 'Tech.SemMark']]\n",
    "df2 = df.loc[df['ACAD_PROG'] == 'DipNet']\n",
    "dipNet_data = df2[['Math.SemMark', 'Science.SemMark', 'Comms.SemMark', 'Tech.SemMark']]\n",
    "df3 = df.loc[df['ACAD_PROG'] == 'DipID']\n",
    "dipID_data = df3[['Math.SemMark', 'Science.SemMark', 'Comms.SemMark', 'Tech.SemMark']]\n",
    "a = (float(dipCloud_data[['Math.SemMark']].mean(axis=0)), float(dipCloud_data[['Science.SemMark']].mean(axis=0)), float(dipCloud_data[['Comms.SemMark']].mean(axis=0)), float(dipCloud_data[['Tech.SemMark']].mean(axis=0)))\n",
    "b = (float(dipNet_data[['Math.SemMark']].mean(axis=0)), float(dipNet_data[['Science.SemMark']].mean(axis=0)), float(dipNet_data[['Comms.SemMark']].mean(axis=0)), float(dipNet_data[['Tech.SemMark']].mean(axis=0)))\n",
    "c = (float(dipID_data[['Math.SemMark']].mean(axis=0)), float(dipID_data[['Science.SemMark']].mean(axis=0)), float(dipID_data[['Comms.SemMark']].mean(axis=0)), float(dipID_data[['Tech.SemMark']].mean(axis=0)))\n",
    "dip_data_df = pd.DataFrame([a,b,c], columns=['Math.SemMark', 'Science.SemMark', 'Comms.SemMark', 'Tech.SemMark'], index=['DipCloud', 'DipNet', 'DipID'])\n",
    "data = dip_data_df.to_numpy()\n",
    "chi2, pval, dof, expected_obs = stats.chi2_contingency(data)"
   ]
  },
  {
   "cell_type": "markdown",
   "metadata": {},
   "source": [
    "`The p value turns out to be 0.9999 , since p value is greater than 𝛼(0.05), there is sufficent evidence to reject the null hypothesis`"
   ]
  },
  {
   "cell_type": "markdown",
   "metadata": {},
   "source": [
    "`So the grade distribution depends on the academic program`"
   ]
  },
  {
   "cell_type": "markdown",
   "metadata": {},
   "source": [
    "# Q#5"
   ]
  },
  {
   "cell_type": "markdown",
   "metadata": {},
   "source": [
    "`Using the Comms data for DipNet`"
   ]
  },
  {
   "cell_type": "code",
   "execution_count": 15,
   "metadata": {},
   "outputs": [
    {
     "data": {
      "text/html": [
       "<style>#sk-container-id-2 {color: black;background-color: white;}#sk-container-id-2 pre{padding: 0;}#sk-container-id-2 div.sk-toggleable {background-color: white;}#sk-container-id-2 label.sk-toggleable__label {cursor: pointer;display: block;width: 100%;margin-bottom: 0;padding: 0.3em;box-sizing: border-box;text-align: center;}#sk-container-id-2 label.sk-toggleable__label-arrow:before {content: \"▸\";float: left;margin-right: 0.25em;color: #696969;}#sk-container-id-2 label.sk-toggleable__label-arrow:hover:before {color: black;}#sk-container-id-2 div.sk-estimator:hover label.sk-toggleable__label-arrow:before {color: black;}#sk-container-id-2 div.sk-toggleable__content {max-height: 0;max-width: 0;overflow: hidden;text-align: left;background-color: #f0f8ff;}#sk-container-id-2 div.sk-toggleable__content pre {margin: 0.2em;color: black;border-radius: 0.25em;background-color: #f0f8ff;}#sk-container-id-2 input.sk-toggleable__control:checked~div.sk-toggleable__content {max-height: 200px;max-width: 100%;overflow: auto;}#sk-container-id-2 input.sk-toggleable__control:checked~label.sk-toggleable__label-arrow:before {content: \"▾\";}#sk-container-id-2 div.sk-estimator input.sk-toggleable__control:checked~label.sk-toggleable__label {background-color: #d4ebff;}#sk-container-id-2 div.sk-label input.sk-toggleable__control:checked~label.sk-toggleable__label {background-color: #d4ebff;}#sk-container-id-2 input.sk-hidden--visually {border: 0;clip: rect(1px 1px 1px 1px);clip: rect(1px, 1px, 1px, 1px);height: 1px;margin: -1px;overflow: hidden;padding: 0;position: absolute;width: 1px;}#sk-container-id-2 div.sk-estimator {font-family: monospace;background-color: #f0f8ff;border: 1px dotted black;border-radius: 0.25em;box-sizing: border-box;margin-bottom: 0.5em;}#sk-container-id-2 div.sk-estimator:hover {background-color: #d4ebff;}#sk-container-id-2 div.sk-parallel-item::after {content: \"\";width: 100%;border-bottom: 1px solid gray;flex-grow: 1;}#sk-container-id-2 div.sk-label:hover label.sk-toggleable__label {background-color: #d4ebff;}#sk-container-id-2 div.sk-serial::before {content: \"\";position: absolute;border-left: 1px solid gray;box-sizing: border-box;top: 0;bottom: 0;left: 50%;z-index: 0;}#sk-container-id-2 div.sk-serial {display: flex;flex-direction: column;align-items: center;background-color: white;padding-right: 0.2em;padding-left: 0.2em;position: relative;}#sk-container-id-2 div.sk-item {position: relative;z-index: 1;}#sk-container-id-2 div.sk-parallel {display: flex;align-items: stretch;justify-content: center;background-color: white;position: relative;}#sk-container-id-2 div.sk-item::before, #sk-container-id-2 div.sk-parallel-item::before {content: \"\";position: absolute;border-left: 1px solid gray;box-sizing: border-box;top: 0;bottom: 0;left: 50%;z-index: -1;}#sk-container-id-2 div.sk-parallel-item {display: flex;flex-direction: column;z-index: 1;position: relative;background-color: white;}#sk-container-id-2 div.sk-parallel-item:first-child::after {align-self: flex-end;width: 50%;}#sk-container-id-2 div.sk-parallel-item:last-child::after {align-self: flex-start;width: 50%;}#sk-container-id-2 div.sk-parallel-item:only-child::after {width: 0;}#sk-container-id-2 div.sk-dashed-wrapped {border: 1px dashed gray;margin: 0 0.4em 0.5em 0.4em;box-sizing: border-box;padding-bottom: 0.4em;background-color: white;}#sk-container-id-2 div.sk-label label {font-family: monospace;font-weight: bold;display: inline-block;line-height: 1.2em;}#sk-container-id-2 div.sk-label-container {text-align: center;}#sk-container-id-2 div.sk-container {/* jupyter's `normalize.less` sets `[hidden] { display: none; }` but bootstrap.min.css set `[hidden] { display: none !important; }` so we also need the `!important` here to be able to override the default hidden behavior on the sphinx rendered scikit-learn.org. See: https://github.com/scikit-learn/scikit-learn/issues/21755 */display: inline-block !important;position: relative;}#sk-container-id-2 div.sk-text-repr-fallback {display: none;}</style><div id=\"sk-container-id-2\" class=\"sk-top-container\"><div class=\"sk-text-repr-fallback\"><pre>LinearRegression()</pre><b>In a Jupyter environment, please rerun this cell to show the HTML representation or trust the notebook. <br />On GitHub, the HTML representation is unable to render, please try loading this page with nbviewer.org.</b></div><div class=\"sk-container\" hidden><div class=\"sk-item\"><div class=\"sk-estimator sk-toggleable\"><input class=\"sk-toggleable__control sk-hidden--visually\" id=\"sk-estimator-id-2\" type=\"checkbox\" checked><label for=\"sk-estimator-id-2\" class=\"sk-toggleable__label sk-toggleable__label-arrow\">LinearRegression</label><div class=\"sk-toggleable__content\"><pre>LinearRegression()</pre></div></div></div></div></div>"
      ],
      "text/plain": [
       "LinearRegression()"
      ]
     },
     "execution_count": 15,
     "metadata": {},
     "output_type": "execute_result"
    }
   ],
   "source": [
    "df1 = df.loc[df['ACAD_PROG'] == 'DipNet']\n",
    "subject_data = df1[['Comms.ASG1', 'Comms.ASG2', 'Comms.CA1', 'Comms.CA2', 'Comms.SemMark']]\n",
    "Tests_score = subject_data[['Comms.ASG1', 'Comms.ASG2', 'Comms.CA1', 'Comms.CA2']]\n",
    "Sem_score = subject_data[['Comms.SemMark']]\n",
    "model = LinearRegression()\n",
    "model.fit(Tests_score,Sem_score)"
   ]
  },
  {
   "cell_type": "markdown",
   "metadata": {},
   "source": [
    "`The following is contributions of each component to the final grade: `"
   ]
  },
  {
   "cell_type": "markdown",
   "metadata": {},
   "source": [
    "- `Comms.ASG1 = 20%` <br>\n",
    "- `Comms.ASG2 = 50%` <br>\n",
    "- `Comms.CA1  = 20%` <br>\n",
    "- `Comms.CA2  = 10%`"
   ]
  },
  {
   "cell_type": "markdown",
   "metadata": {},
   "source": [
    "# Q#6"
   ]
  },
  {
   "cell_type": "code",
   "execution_count": 9,
   "metadata": {},
   "outputs": [
    {
     "data": {
      "text/html": [
       "<div>\n",
       "<style scoped>\n",
       "    .dataframe tbody tr th:only-of-type {\n",
       "        vertical-align: middle;\n",
       "    }\n",
       "\n",
       "    .dataframe tbody tr th {\n",
       "        vertical-align: top;\n",
       "    }\n",
       "\n",
       "    .dataframe thead th {\n",
       "        text-align: right;\n",
       "    }\n",
       "</style>\n",
       "<table border=\"1\" class=\"dataframe\">\n",
       "  <thead>\n",
       "    <tr style=\"text-align: right;\">\n",
       "      <th></th>\n",
       "      <th>Math.SemMark</th>\n",
       "      <th>Science.SemMark</th>\n",
       "      <th>Comms.SemMark</th>\n",
       "      <th>Tech.SemMark</th>\n",
       "    </tr>\n",
       "  </thead>\n",
       "  <tbody>\n",
       "    <tr>\n",
       "      <th>Math.SemMark</th>\n",
       "      <td>1.000000</td>\n",
       "      <td>0.521755</td>\n",
       "      <td>0.580492</td>\n",
       "      <td>0.702494</td>\n",
       "    </tr>\n",
       "    <tr>\n",
       "      <th>Science.SemMark</th>\n",
       "      <td>0.521755</td>\n",
       "      <td>1.000000</td>\n",
       "      <td>0.562615</td>\n",
       "      <td>0.412188</td>\n",
       "    </tr>\n",
       "    <tr>\n",
       "      <th>Comms.SemMark</th>\n",
       "      <td>0.580492</td>\n",
       "      <td>0.562615</td>\n",
       "      <td>1.000000</td>\n",
       "      <td>0.426936</td>\n",
       "    </tr>\n",
       "    <tr>\n",
       "      <th>Tech.SemMark</th>\n",
       "      <td>0.702494</td>\n",
       "      <td>0.412188</td>\n",
       "      <td>0.426936</td>\n",
       "      <td>1.000000</td>\n",
       "    </tr>\n",
       "  </tbody>\n",
       "</table>\n",
       "</div>"
      ],
      "text/plain": [
       "                 Math.SemMark  Science.SemMark  Comms.SemMark  Tech.SemMark\n",
       "Math.SemMark         1.000000         0.521755       0.580492      0.702494\n",
       "Science.SemMark      0.521755         1.000000       0.562615      0.412188\n",
       "Comms.SemMark        0.580492         0.562615       1.000000      0.426936\n",
       "Tech.SemMark         0.702494         0.412188       0.426936      1.000000"
      ]
     },
     "execution_count": 9,
     "metadata": {},
     "output_type": "execute_result"
    }
   ],
   "source": [
    "df1 = df.loc[df['ACAD_PROG'] == 'DipNet']\n",
    "subjects_data = df1[['Math.SemMark', 'Science.SemMark', 'Comms.SemMark', 'Tech.SemMark']]\n",
    "subjects_data.corr()"
   ]
  },
  {
   "cell_type": "markdown",
   "metadata": {},
   "source": [
    "`There is a strong positive correlation between Science scores and other subjects scores , So we can predict a student's Science score using other subjects scores!`"
   ]
  },
  {
   "cell_type": "markdown",
   "metadata": {},
   "source": [
    "`Using Chi-square test of independence we proved that academic program had influence on students grades , so we can deduce that knowing academic program can increase the accuracy of prediction`"
   ]
  }
 ],
 "metadata": {
  "kernelspec": {
   "display_name": "Python 3 (ipykernel)",
   "language": "python",
   "name": "python3"
  },
  "language_info": {
   "codemirror_mode": {
    "name": "ipython",
    "version": 3
   },
   "file_extension": ".py",
   "mimetype": "text/x-python",
   "name": "python",
   "nbconvert_exporter": "python",
   "pygments_lexer": "ipython3",
   "version": "3.10.5"
  }
 },
 "nbformat": 4,
 "nbformat_minor": 2
}
